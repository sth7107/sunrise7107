{
 "cells": [
  {
   "cell_type": "markdown",
   "id": "a27067b1-6268-4ad2-904c-d0a83f022a5c",
   "metadata": {},
   "source": [
    "For two dataframes merge together, if merging columns on columns, the DataFrame indexes will be ignored. \n",
    "\n",
    "After the two dataframes merge, the index of the merged dataframe is reset. \n",
    "\n",
    "This could an ignored part in one large project and can cause problems in the later multiple dataframe combination or calculation.\n",
    "\n",
    "Hence, I provide several examples to explain why it is important to be careful when do pd.merge, and what the safest way is when we do the merging."
   ]
  },
  {
   "cell_type": "code",
   "execution_count": 71,
   "id": "57743e93-715d-469a-99b7-9428f247b80e",
   "metadata": {},
   "outputs": [],
   "source": [
    "# import libraries\n",
    "import pandas as pd\n",
    "import random"
   ]
  },
  {
   "cell_type": "markdown",
   "id": "f43323ea-ead0-4e8a-a37c-9df6d6f17f78",
   "metadata": {},
   "source": [
    "#### Data setup"
   ]
  },
  {
   "cell_type": "code",
   "execution_count": 10,
   "id": "83a1154c-280c-4250-a5eb-15de0dc8f900",
   "metadata": {},
   "outputs": [],
   "source": [
    "account_number = random.sample(range(100000000, 800000000), 1000)"
   ]
  },
  {
   "cell_type": "code",
   "execution_count": 33,
   "id": "445b4f7d-638f-4061-abfa-4a926e8c5003",
   "metadata": {},
   "outputs": [],
   "source": [
    "index_list = list(range(1000, 2000))"
   ]
  },
  {
   "cell_type": "code",
   "execution_count": 13,
   "id": "09317268-22b2-4778-a81b-3945ca812257",
   "metadata": {},
   "outputs": [],
   "source": [
    "account_values = random.sample(range(1, 2000), 1000)"
   ]
  },
  {
   "cell_type": "code",
   "execution_count": 35,
   "id": "481dc7cc-212d-4743-9dd0-066e7348fe58",
   "metadata": {},
   "outputs": [],
   "source": [
    "df_test_1 = pd.DataFrame(data={\"account_number\": account_number, \"account_values\": account_values}, index=index_list)"
   ]
  },
  {
   "cell_type": "code",
   "execution_count": 16,
   "id": "9e6681f9-e368-4c0f-9d0b-79c5d5f6fc65",
   "metadata": {},
   "outputs": [],
   "source": [
    "account_price = random.sample(range(1, 10000), 1000)"
   ]
  },
  {
   "cell_type": "code",
   "execution_count": 42,
   "id": "f21aed4c-2460-4f6b-83db-024ef4f420f5",
   "metadata": {},
   "outputs": [],
   "source": [
    "df_test_2 = pd.DataFrame(data={\"account_number\": account_number, \"account_price\": account_price}, index= index_list)"
   ]
  },
  {
   "cell_type": "code",
   "execution_count": 43,
   "id": "b79b7884-f2da-4355-864b-a815bdd9b924",
   "metadata": {},
   "outputs": [
    {
     "data": {
      "text/plain": [
       "True"
      ]
     },
     "execution_count": 43,
     "metadata": {},
     "output_type": "execute_result"
    }
   ],
   "source": [
    "(df_test_1[\"account_number\"] == df_test_2[\"account_number\"]).all()"
   ]
  },
  {
   "cell_type": "markdown",
   "id": "72ec3f24-7cdd-415d-880c-0994553009d9",
   "metadata": {},
   "source": [
    "#### Case 1: merge two dataframes with the same indices, but not [0, 1, 2, 3, ...]."
   ]
  },
  {
   "cell_type": "code",
   "execution_count": 44,
   "id": "86b03c96-151d-41ed-a400-a73d39602a35",
   "metadata": {},
   "outputs": [],
   "source": [
    "df_test_3 = df_test_1.merge(df_test_2, on=[\"account_number\"])"
   ]
  },
  {
   "cell_type": "code",
   "execution_count": 47,
   "id": "3275039f-bfdd-41a6-b6a9-790ce1162b93",
   "metadata": {},
   "outputs": [
    {
     "data": {
      "text/html": [
       "<div>\n",
       "<style scoped>\n",
       "    .dataframe tbody tr th:only-of-type {\n",
       "        vertical-align: middle;\n",
       "    }\n",
       "\n",
       "    .dataframe tbody tr th {\n",
       "        vertical-align: top;\n",
       "    }\n",
       "\n",
       "    .dataframe thead th {\n",
       "        text-align: right;\n",
       "    }\n",
       "</style>\n",
       "<table border=\"1\" class=\"dataframe\">\n",
       "  <thead>\n",
       "    <tr style=\"text-align: right;\">\n",
       "      <th></th>\n",
       "      <th>account_number</th>\n",
       "      <th>account_values</th>\n",
       "    </tr>\n",
       "  </thead>\n",
       "  <tbody>\n",
       "    <tr>\n",
       "      <th>1000</th>\n",
       "      <td>108928675</td>\n",
       "      <td>791</td>\n",
       "    </tr>\n",
       "    <tr>\n",
       "      <th>1001</th>\n",
       "      <td>282411904</td>\n",
       "      <td>300</td>\n",
       "    </tr>\n",
       "    <tr>\n",
       "      <th>1002</th>\n",
       "      <td>299022651</td>\n",
       "      <td>1372</td>\n",
       "    </tr>\n",
       "    <tr>\n",
       "      <th>1003</th>\n",
       "      <td>508080513</td>\n",
       "      <td>750</td>\n",
       "    </tr>\n",
       "    <tr>\n",
       "      <th>1004</th>\n",
       "      <td>470639814</td>\n",
       "      <td>1932</td>\n",
       "    </tr>\n",
       "    <tr>\n",
       "      <th>...</th>\n",
       "      <td>...</td>\n",
       "      <td>...</td>\n",
       "    </tr>\n",
       "    <tr>\n",
       "      <th>1995</th>\n",
       "      <td>736240448</td>\n",
       "      <td>698</td>\n",
       "    </tr>\n",
       "    <tr>\n",
       "      <th>1996</th>\n",
       "      <td>374564362</td>\n",
       "      <td>1280</td>\n",
       "    </tr>\n",
       "    <tr>\n",
       "      <th>1997</th>\n",
       "      <td>426904865</td>\n",
       "      <td>1969</td>\n",
       "    </tr>\n",
       "    <tr>\n",
       "      <th>1998</th>\n",
       "      <td>587830205</td>\n",
       "      <td>205</td>\n",
       "    </tr>\n",
       "    <tr>\n",
       "      <th>1999</th>\n",
       "      <td>353043088</td>\n",
       "      <td>1646</td>\n",
       "    </tr>\n",
       "  </tbody>\n",
       "</table>\n",
       "<p>1000 rows × 2 columns</p>\n",
       "</div>"
      ],
      "text/plain": [
       "      account_number  account_values\n",
       "1000       108928675             791\n",
       "1001       282411904             300\n",
       "1002       299022651            1372\n",
       "1003       508080513             750\n",
       "1004       470639814            1932\n",
       "...              ...             ...\n",
       "1995       736240448             698\n",
       "1996       374564362            1280\n",
       "1997       426904865            1969\n",
       "1998       587830205             205\n",
       "1999       353043088            1646\n",
       "\n",
       "[1000 rows x 2 columns]"
      ]
     },
     "execution_count": 47,
     "metadata": {},
     "output_type": "execute_result"
    }
   ],
   "source": [
    "df_test_1"
   ]
  },
  {
   "cell_type": "code",
   "execution_count": 46,
   "id": "e40a7af0-8509-4c7a-b160-73adc9c5f8cd",
   "metadata": {},
   "outputs": [
    {
     "data": {
      "text/html": [
       "<div>\n",
       "<style scoped>\n",
       "    .dataframe tbody tr th:only-of-type {\n",
       "        vertical-align: middle;\n",
       "    }\n",
       "\n",
       "    .dataframe tbody tr th {\n",
       "        vertical-align: top;\n",
       "    }\n",
       "\n",
       "    .dataframe thead th {\n",
       "        text-align: right;\n",
       "    }\n",
       "</style>\n",
       "<table border=\"1\" class=\"dataframe\">\n",
       "  <thead>\n",
       "    <tr style=\"text-align: right;\">\n",
       "      <th></th>\n",
       "      <th>account_number</th>\n",
       "      <th>account_values</th>\n",
       "      <th>account_price</th>\n",
       "    </tr>\n",
       "  </thead>\n",
       "  <tbody>\n",
       "    <tr>\n",
       "      <th>0</th>\n",
       "      <td>108928675</td>\n",
       "      <td>791</td>\n",
       "      <td>8244</td>\n",
       "    </tr>\n",
       "    <tr>\n",
       "      <th>1</th>\n",
       "      <td>282411904</td>\n",
       "      <td>300</td>\n",
       "      <td>1686</td>\n",
       "    </tr>\n",
       "    <tr>\n",
       "      <th>2</th>\n",
       "      <td>299022651</td>\n",
       "      <td>1372</td>\n",
       "      <td>7038</td>\n",
       "    </tr>\n",
       "    <tr>\n",
       "      <th>3</th>\n",
       "      <td>508080513</td>\n",
       "      <td>750</td>\n",
       "      <td>6346</td>\n",
       "    </tr>\n",
       "    <tr>\n",
       "      <th>4</th>\n",
       "      <td>470639814</td>\n",
       "      <td>1932</td>\n",
       "      <td>743</td>\n",
       "    </tr>\n",
       "    <tr>\n",
       "      <th>...</th>\n",
       "      <td>...</td>\n",
       "      <td>...</td>\n",
       "      <td>...</td>\n",
       "    </tr>\n",
       "    <tr>\n",
       "      <th>995</th>\n",
       "      <td>736240448</td>\n",
       "      <td>698</td>\n",
       "      <td>9876</td>\n",
       "    </tr>\n",
       "    <tr>\n",
       "      <th>996</th>\n",
       "      <td>374564362</td>\n",
       "      <td>1280</td>\n",
       "      <td>6227</td>\n",
       "    </tr>\n",
       "    <tr>\n",
       "      <th>997</th>\n",
       "      <td>426904865</td>\n",
       "      <td>1969</td>\n",
       "      <td>9051</td>\n",
       "    </tr>\n",
       "    <tr>\n",
       "      <th>998</th>\n",
       "      <td>587830205</td>\n",
       "      <td>205</td>\n",
       "      <td>6636</td>\n",
       "    </tr>\n",
       "    <tr>\n",
       "      <th>999</th>\n",
       "      <td>353043088</td>\n",
       "      <td>1646</td>\n",
       "      <td>4734</td>\n",
       "    </tr>\n",
       "  </tbody>\n",
       "</table>\n",
       "<p>1000 rows × 3 columns</p>\n",
       "</div>"
      ],
      "text/plain": [
       "     account_number  account_values  account_price\n",
       "0         108928675             791           8244\n",
       "1         282411904             300           1686\n",
       "2         299022651            1372           7038\n",
       "3         508080513             750           6346\n",
       "4         470639814            1932            743\n",
       "..              ...             ...            ...\n",
       "995       736240448             698           9876\n",
       "996       374564362            1280           6227\n",
       "997       426904865            1969           9051\n",
       "998       587830205             205           6636\n",
       "999       353043088            1646           4734\n",
       "\n",
       "[1000 rows x 3 columns]"
      ]
     },
     "execution_count": 46,
     "metadata": {},
     "output_type": "execute_result"
    }
   ],
   "source": [
    "df_test_3"
   ]
  },
  {
   "cell_type": "markdown",
   "id": "3f9bdd82-4603-4721-b183-4d1e4fb2aaa6",
   "metadata": {},
   "source": [
    "Even though df_test_1 and df_test_2 are with the same index, the df_test_3's index is reset from 0. When we compare the two series, it is not comparable, since the index are different between df_test_1 and df_test_3."
   ]
  },
  {
   "cell_type": "code",
   "execution_count": 45,
   "id": "69f90927-44ae-45ad-a33b-1aa865a79cda",
   "metadata": {
    "collapsed": true,
    "jupyter": {
     "outputs_hidden": true
    },
    "tags": []
   },
   "outputs": [
    {
     "ename": "ValueError",
     "evalue": "Can only compare identically-labeled Series objects",
     "output_type": "error",
     "traceback": [
      "\u001b[0;31m---------------------------------------------------------------------------\u001b[0m",
      "\u001b[0;31mValueError\u001b[0m                                Traceback (most recent call last)",
      "Input \u001b[0;32mIn [45]\u001b[0m, in \u001b[0;36m<cell line: 1>\u001b[0;34m()\u001b[0m\n\u001b[0;32m----> 1\u001b[0m (\u001b[43mdf_test_1\u001b[49m\u001b[43m[\u001b[49m\u001b[38;5;124;43m\"\u001b[39;49m\u001b[38;5;124;43maccount_number\u001b[39;49m\u001b[38;5;124;43m\"\u001b[39;49m\u001b[43m]\u001b[49m\u001b[43m \u001b[49m\u001b[38;5;241;43m==\u001b[39;49m\u001b[43m \u001b[49m\u001b[43mdf_test_3\u001b[49m\u001b[43m[\u001b[49m\u001b[38;5;124;43m\"\u001b[39;49m\u001b[38;5;124;43maccount_number\u001b[39;49m\u001b[38;5;124;43m\"\u001b[39;49m\u001b[43m]\u001b[49m)\u001b[38;5;241m.\u001b[39mall()\n",
      "File \u001b[0;32m/Library/Frameworks/Python.framework/Versions/3.10/lib/python3.10/site-packages/pandas/core/ops/common.py:70\u001b[0m, in \u001b[0;36m_unpack_zerodim_and_defer.<locals>.new_method\u001b[0;34m(self, other)\u001b[0m\n\u001b[1;32m     66\u001b[0m             \u001b[38;5;28;01mreturn\u001b[39;00m \u001b[38;5;28mNotImplemented\u001b[39m\n\u001b[1;32m     68\u001b[0m other \u001b[38;5;241m=\u001b[39m item_from_zerodim(other)\n\u001b[0;32m---> 70\u001b[0m \u001b[38;5;28;01mreturn\u001b[39;00m \u001b[43mmethod\u001b[49m\u001b[43m(\u001b[49m\u001b[38;5;28;43mself\u001b[39;49m\u001b[43m,\u001b[49m\u001b[43m \u001b[49m\u001b[43mother\u001b[49m\u001b[43m)\u001b[49m\n",
      "File \u001b[0;32m/Library/Frameworks/Python.framework/Versions/3.10/lib/python3.10/site-packages/pandas/core/arraylike.py:40\u001b[0m, in \u001b[0;36mOpsMixin.__eq__\u001b[0;34m(self, other)\u001b[0m\n\u001b[1;32m     38\u001b[0m \u001b[38;5;129m@unpack_zerodim_and_defer\u001b[39m(\u001b[38;5;124m\"\u001b[39m\u001b[38;5;124m__eq__\u001b[39m\u001b[38;5;124m\"\u001b[39m)\n\u001b[1;32m     39\u001b[0m \u001b[38;5;28;01mdef\u001b[39;00m \u001b[38;5;21m__eq__\u001b[39m(\u001b[38;5;28mself\u001b[39m, other):\n\u001b[0;32m---> 40\u001b[0m     \u001b[38;5;28;01mreturn\u001b[39;00m \u001b[38;5;28;43mself\u001b[39;49m\u001b[38;5;241;43m.\u001b[39;49m\u001b[43m_cmp_method\u001b[49m\u001b[43m(\u001b[49m\u001b[43mother\u001b[49m\u001b[43m,\u001b[49m\u001b[43m \u001b[49m\u001b[43moperator\u001b[49m\u001b[38;5;241;43m.\u001b[39;49m\u001b[43meq\u001b[49m\u001b[43m)\u001b[49m\n",
      "File \u001b[0;32m/Library/Frameworks/Python.framework/Versions/3.10/lib/python3.10/site-packages/pandas/core/series.py:5617\u001b[0m, in \u001b[0;36mSeries._cmp_method\u001b[0;34m(self, other, op)\u001b[0m\n\u001b[1;32m   5614\u001b[0m res_name \u001b[38;5;241m=\u001b[39m ops\u001b[38;5;241m.\u001b[39mget_op_result_name(\u001b[38;5;28mself\u001b[39m, other)\n\u001b[1;32m   5616\u001b[0m \u001b[38;5;28;01mif\u001b[39;00m \u001b[38;5;28misinstance\u001b[39m(other, Series) \u001b[38;5;129;01mand\u001b[39;00m \u001b[38;5;129;01mnot\u001b[39;00m \u001b[38;5;28mself\u001b[39m\u001b[38;5;241m.\u001b[39m_indexed_same(other):\n\u001b[0;32m-> 5617\u001b[0m     \u001b[38;5;28;01mraise\u001b[39;00m \u001b[38;5;167;01mValueError\u001b[39;00m(\u001b[38;5;124m\"\u001b[39m\u001b[38;5;124mCan only compare identically-labeled Series objects\u001b[39m\u001b[38;5;124m\"\u001b[39m)\n\u001b[1;32m   5619\u001b[0m lvalues \u001b[38;5;241m=\u001b[39m \u001b[38;5;28mself\u001b[39m\u001b[38;5;241m.\u001b[39m_values\n\u001b[1;32m   5620\u001b[0m rvalues \u001b[38;5;241m=\u001b[39m extract_array(other, extract_numpy\u001b[38;5;241m=\u001b[39m\u001b[38;5;28;01mTrue\u001b[39;00m, extract_range\u001b[38;5;241m=\u001b[39m\u001b[38;5;28;01mTrue\u001b[39;00m)\n",
      "\u001b[0;31mValueError\u001b[0m: Can only compare identically-labeled Series objects"
     ]
    }
   ],
   "source": [
    "(df_test_1[\"account_number\"] == df_test_3[\"account_number\"]).all()"
   ]
  },
  {
   "cell_type": "markdown",
   "id": "42e5e2ed-c4e8-4927-823f-24e1e56bb254",
   "metadata": {},
   "source": [
    "However, when we compare the values of the two series, they are equal. Hence, the order of the accounts remain the same."
   ]
  },
  {
   "cell_type": "code",
   "execution_count": 48,
   "id": "f50ed565-7023-4287-b765-7d5b6199b04d",
   "metadata": {},
   "outputs": [
    {
     "data": {
      "text/plain": [
       "True"
      ]
     },
     "execution_count": 48,
     "metadata": {},
     "output_type": "execute_result"
    }
   ],
   "source": [
    "(df_test_1[\"account_number\"].values == df_test_3[\"account_number\"].values).all()"
   ]
  },
  {
   "cell_type": "code",
   "execution_count": 63,
   "id": "b7ba292f-e290-4dd6-b2cb-6c06f7266b9e",
   "metadata": {},
   "outputs": [],
   "source": [
    "df_test_3_1 = df_test_1.merge(df_test_2, left_index=True, right_index=True)"
   ]
  },
  {
   "cell_type": "code",
   "execution_count": 64,
   "id": "1dd8a8cb-2d0d-4ca3-9ab5-002073941153",
   "metadata": {
    "collapsed": true,
    "jupyter": {
     "outputs_hidden": true
    },
    "tags": []
   },
   "outputs": [
    {
     "data": {
      "text/html": [
       "<div>\n",
       "<style scoped>\n",
       "    .dataframe tbody tr th:only-of-type {\n",
       "        vertical-align: middle;\n",
       "    }\n",
       "\n",
       "    .dataframe tbody tr th {\n",
       "        vertical-align: top;\n",
       "    }\n",
       "\n",
       "    .dataframe thead th {\n",
       "        text-align: right;\n",
       "    }\n",
       "</style>\n",
       "<table border=\"1\" class=\"dataframe\">\n",
       "  <thead>\n",
       "    <tr style=\"text-align: right;\">\n",
       "      <th></th>\n",
       "      <th>account_number_x</th>\n",
       "      <th>account_values</th>\n",
       "      <th>account_bin</th>\n",
       "      <th>account_number_y</th>\n",
       "      <th>account_price</th>\n",
       "    </tr>\n",
       "  </thead>\n",
       "  <tbody>\n",
       "    <tr>\n",
       "      <th>1000</th>\n",
       "      <td>108928675</td>\n",
       "      <td>791</td>\n",
       "      <td>1</td>\n",
       "      <td>108928675</td>\n",
       "      <td>8244</td>\n",
       "    </tr>\n",
       "    <tr>\n",
       "      <th>1001</th>\n",
       "      <td>282411904</td>\n",
       "      <td>300</td>\n",
       "      <td>2</td>\n",
       "      <td>282411904</td>\n",
       "      <td>1686</td>\n",
       "    </tr>\n",
       "    <tr>\n",
       "      <th>1002</th>\n",
       "      <td>299022651</td>\n",
       "      <td>1372</td>\n",
       "      <td>3</td>\n",
       "      <td>299022651</td>\n",
       "      <td>7038</td>\n",
       "    </tr>\n",
       "    <tr>\n",
       "      <th>1003</th>\n",
       "      <td>508080513</td>\n",
       "      <td>750</td>\n",
       "      <td>4</td>\n",
       "      <td>508080513</td>\n",
       "      <td>6346</td>\n",
       "    </tr>\n",
       "    <tr>\n",
       "      <th>1004</th>\n",
       "      <td>470639814</td>\n",
       "      <td>1932</td>\n",
       "      <td>5</td>\n",
       "      <td>470639814</td>\n",
       "      <td>743</td>\n",
       "    </tr>\n",
       "    <tr>\n",
       "      <th>...</th>\n",
       "      <td>...</td>\n",
       "      <td>...</td>\n",
       "      <td>...</td>\n",
       "      <td>...</td>\n",
       "      <td>...</td>\n",
       "    </tr>\n",
       "    <tr>\n",
       "      <th>1995</th>\n",
       "      <td>736240448</td>\n",
       "      <td>698</td>\n",
       "      <td>1</td>\n",
       "      <td>736240448</td>\n",
       "      <td>9876</td>\n",
       "    </tr>\n",
       "    <tr>\n",
       "      <th>1996</th>\n",
       "      <td>374564362</td>\n",
       "      <td>1280</td>\n",
       "      <td>2</td>\n",
       "      <td>374564362</td>\n",
       "      <td>6227</td>\n",
       "    </tr>\n",
       "    <tr>\n",
       "      <th>1997</th>\n",
       "      <td>426904865</td>\n",
       "      <td>1969</td>\n",
       "      <td>3</td>\n",
       "      <td>426904865</td>\n",
       "      <td>9051</td>\n",
       "    </tr>\n",
       "    <tr>\n",
       "      <th>1998</th>\n",
       "      <td>587830205</td>\n",
       "      <td>205</td>\n",
       "      <td>4</td>\n",
       "      <td>587830205</td>\n",
       "      <td>6636</td>\n",
       "    </tr>\n",
       "    <tr>\n",
       "      <th>1999</th>\n",
       "      <td>353043088</td>\n",
       "      <td>1646</td>\n",
       "      <td>5</td>\n",
       "      <td>353043088</td>\n",
       "      <td>4734</td>\n",
       "    </tr>\n",
       "  </tbody>\n",
       "</table>\n",
       "<p>1000 rows × 5 columns</p>\n",
       "</div>"
      ],
      "text/plain": [
       "      account_number_x  account_values  account_bin  account_number_y  \\\n",
       "1000         108928675             791            1         108928675   \n",
       "1001         282411904             300            2         282411904   \n",
       "1002         299022651            1372            3         299022651   \n",
       "1003         508080513             750            4         508080513   \n",
       "1004         470639814            1932            5         470639814   \n",
       "...                ...             ...          ...               ...   \n",
       "1995         736240448             698            1         736240448   \n",
       "1996         374564362            1280            2         374564362   \n",
       "1997         426904865            1969            3         426904865   \n",
       "1998         587830205             205            4         587830205   \n",
       "1999         353043088            1646            5         353043088   \n",
       "\n",
       "      account_price  \n",
       "1000           8244  \n",
       "1001           1686  \n",
       "1002           7038  \n",
       "1003           6346  \n",
       "1004            743  \n",
       "...             ...  \n",
       "1995           9876  \n",
       "1996           6227  \n",
       "1997           9051  \n",
       "1998           6636  \n",
       "1999           4734  \n",
       "\n",
       "[1000 rows x 5 columns]"
      ]
     },
     "execution_count": 64,
     "metadata": {},
     "output_type": "execute_result"
    }
   ],
   "source": [
    "df_test_3_1"
   ]
  },
  {
   "cell_type": "code",
   "execution_count": 67,
   "id": "31c473c3-48a7-443f-b59c-e37c828227fd",
   "metadata": {},
   "outputs": [
    {
     "data": {
      "text/plain": [
       "True"
      ]
     },
     "execution_count": 67,
     "metadata": {},
     "output_type": "execute_result"
    }
   ],
   "source": [
    "(df_test_1[\"account_number\"].values == df_test_3_1[\"account_number_y\"].values).all()"
   ]
  },
  {
   "cell_type": "markdown",
   "id": "15daa694-1829-49ab-bf56-121de1381414",
   "metadata": {},
   "source": [
    "#### Case 2: merge two dataframes with the same key, but in different order"
   ]
  },
  {
   "cell_type": "code",
   "execution_count": 86,
   "id": "bb691705-78c5-4f74-b5fe-971dff5d85f3",
   "metadata": {},
   "outputs": [],
   "source": [
    "df_test_4 = df_test_2.sort_values(by=\"account_number\").reset_index(drop=True)"
   ]
  },
  {
   "cell_type": "code",
   "execution_count": 87,
   "id": "6d4a5645-5877-41b4-a3d7-a176df452257",
   "metadata": {},
   "outputs": [
    {
     "data": {
      "text/html": [
       "<div>\n",
       "<style scoped>\n",
       "    .dataframe tbody tr th:only-of-type {\n",
       "        vertical-align: middle;\n",
       "    }\n",
       "\n",
       "    .dataframe tbody tr th {\n",
       "        vertical-align: top;\n",
       "    }\n",
       "\n",
       "    .dataframe thead th {\n",
       "        text-align: right;\n",
       "    }\n",
       "</style>\n",
       "<table border=\"1\" class=\"dataframe\">\n",
       "  <thead>\n",
       "    <tr style=\"text-align: right;\">\n",
       "      <th></th>\n",
       "      <th>account_number</th>\n",
       "      <th>account_price</th>\n",
       "    </tr>\n",
       "  </thead>\n",
       "  <tbody>\n",
       "    <tr>\n",
       "      <th>0</th>\n",
       "      <td>100300106</td>\n",
       "      <td>9490</td>\n",
       "    </tr>\n",
       "    <tr>\n",
       "      <th>1</th>\n",
       "      <td>100779966</td>\n",
       "      <td>3094</td>\n",
       "    </tr>\n",
       "    <tr>\n",
       "      <th>2</th>\n",
       "      <td>100860944</td>\n",
       "      <td>9791</td>\n",
       "    </tr>\n",
       "    <tr>\n",
       "      <th>3</th>\n",
       "      <td>101263323</td>\n",
       "      <td>1587</td>\n",
       "    </tr>\n",
       "    <tr>\n",
       "      <th>4</th>\n",
       "      <td>101440533</td>\n",
       "      <td>2917</td>\n",
       "    </tr>\n",
       "    <tr>\n",
       "      <th>...</th>\n",
       "      <td>...</td>\n",
       "      <td>...</td>\n",
       "    </tr>\n",
       "    <tr>\n",
       "      <th>995</th>\n",
       "      <td>797132945</td>\n",
       "      <td>3938</td>\n",
       "    </tr>\n",
       "    <tr>\n",
       "      <th>996</th>\n",
       "      <td>797339355</td>\n",
       "      <td>3979</td>\n",
       "    </tr>\n",
       "    <tr>\n",
       "      <th>997</th>\n",
       "      <td>797717673</td>\n",
       "      <td>3447</td>\n",
       "    </tr>\n",
       "    <tr>\n",
       "      <th>998</th>\n",
       "      <td>797925623</td>\n",
       "      <td>7960</td>\n",
       "    </tr>\n",
       "    <tr>\n",
       "      <th>999</th>\n",
       "      <td>798695919</td>\n",
       "      <td>3412</td>\n",
       "    </tr>\n",
       "  </tbody>\n",
       "</table>\n",
       "<p>1000 rows × 2 columns</p>\n",
       "</div>"
      ],
      "text/plain": [
       "     account_number  account_price\n",
       "0         100300106           9490\n",
       "1         100779966           3094\n",
       "2         100860944           9791\n",
       "3         101263323           1587\n",
       "4         101440533           2917\n",
       "..              ...            ...\n",
       "995       797132945           3938\n",
       "996       797339355           3979\n",
       "997       797717673           3447\n",
       "998       797925623           7960\n",
       "999       798695919           3412\n",
       "\n",
       "[1000 rows x 2 columns]"
      ]
     },
     "execution_count": 87,
     "metadata": {},
     "output_type": "execute_result"
    }
   ],
   "source": [
    "df_test_4"
   ]
  },
  {
   "cell_type": "code",
   "execution_count": 88,
   "id": "a100a710-2d23-4cfe-9a46-78695f491004",
   "metadata": {},
   "outputs": [],
   "source": [
    "df_test_4_1 = df_test_1.merge(df_test_4, on=\"account_number\")"
   ]
  },
  {
   "cell_type": "code",
   "execution_count": 89,
   "id": "d5ccdf28-19f0-4b38-a2eb-5b6a000299b3",
   "metadata": {},
   "outputs": [
    {
     "data": {
      "text/html": [
       "<div>\n",
       "<style scoped>\n",
       "    .dataframe tbody tr th:only-of-type {\n",
       "        vertical-align: middle;\n",
       "    }\n",
       "\n",
       "    .dataframe tbody tr th {\n",
       "        vertical-align: top;\n",
       "    }\n",
       "\n",
       "    .dataframe thead th {\n",
       "        text-align: right;\n",
       "    }\n",
       "</style>\n",
       "<table border=\"1\" class=\"dataframe\">\n",
       "  <thead>\n",
       "    <tr style=\"text-align: right;\">\n",
       "      <th></th>\n",
       "      <th>account_number</th>\n",
       "      <th>account_values</th>\n",
       "      <th>account_bin</th>\n",
       "      <th>account_price</th>\n",
       "    </tr>\n",
       "  </thead>\n",
       "  <tbody>\n",
       "    <tr>\n",
       "      <th>0</th>\n",
       "      <td>108928675</td>\n",
       "      <td>791</td>\n",
       "      <td>1</td>\n",
       "      <td>8244</td>\n",
       "    </tr>\n",
       "    <tr>\n",
       "      <th>1</th>\n",
       "      <td>282411904</td>\n",
       "      <td>300</td>\n",
       "      <td>2</td>\n",
       "      <td>1686</td>\n",
       "    </tr>\n",
       "    <tr>\n",
       "      <th>2</th>\n",
       "      <td>299022651</td>\n",
       "      <td>1372</td>\n",
       "      <td>3</td>\n",
       "      <td>7038</td>\n",
       "    </tr>\n",
       "    <tr>\n",
       "      <th>3</th>\n",
       "      <td>508080513</td>\n",
       "      <td>750</td>\n",
       "      <td>4</td>\n",
       "      <td>6346</td>\n",
       "    </tr>\n",
       "    <tr>\n",
       "      <th>4</th>\n",
       "      <td>470639814</td>\n",
       "      <td>1932</td>\n",
       "      <td>5</td>\n",
       "      <td>743</td>\n",
       "    </tr>\n",
       "    <tr>\n",
       "      <th>...</th>\n",
       "      <td>...</td>\n",
       "      <td>...</td>\n",
       "      <td>...</td>\n",
       "      <td>...</td>\n",
       "    </tr>\n",
       "    <tr>\n",
       "      <th>995</th>\n",
       "      <td>736240448</td>\n",
       "      <td>698</td>\n",
       "      <td>1</td>\n",
       "      <td>9876</td>\n",
       "    </tr>\n",
       "    <tr>\n",
       "      <th>996</th>\n",
       "      <td>374564362</td>\n",
       "      <td>1280</td>\n",
       "      <td>2</td>\n",
       "      <td>6227</td>\n",
       "    </tr>\n",
       "    <tr>\n",
       "      <th>997</th>\n",
       "      <td>426904865</td>\n",
       "      <td>1969</td>\n",
       "      <td>3</td>\n",
       "      <td>9051</td>\n",
       "    </tr>\n",
       "    <tr>\n",
       "      <th>998</th>\n",
       "      <td>587830205</td>\n",
       "      <td>205</td>\n",
       "      <td>4</td>\n",
       "      <td>6636</td>\n",
       "    </tr>\n",
       "    <tr>\n",
       "      <th>999</th>\n",
       "      <td>353043088</td>\n",
       "      <td>1646</td>\n",
       "      <td>5</td>\n",
       "      <td>4734</td>\n",
       "    </tr>\n",
       "  </tbody>\n",
       "</table>\n",
       "<p>1000 rows × 4 columns</p>\n",
       "</div>"
      ],
      "text/plain": [
       "     account_number  account_values  account_bin  account_price\n",
       "0         108928675             791            1           8244\n",
       "1         282411904             300            2           1686\n",
       "2         299022651            1372            3           7038\n",
       "3         508080513             750            4           6346\n",
       "4         470639814            1932            5            743\n",
       "..              ...             ...          ...            ...\n",
       "995       736240448             698            1           9876\n",
       "996       374564362            1280            2           6227\n",
       "997       426904865            1969            3           9051\n",
       "998       587830205             205            4           6636\n",
       "999       353043088            1646            5           4734\n",
       "\n",
       "[1000 rows x 4 columns]"
      ]
     },
     "execution_count": 89,
     "metadata": {},
     "output_type": "execute_result"
    }
   ],
   "source": [
    "df_test_4_1"
   ]
  },
  {
   "cell_type": "code",
   "execution_count": 90,
   "id": "7c894f0c-b863-4b6f-9be1-685458bd3b23",
   "metadata": {},
   "outputs": [
    {
     "data": {
      "text/plain": [
       "True"
      ]
     },
     "execution_count": 90,
     "metadata": {},
     "output_type": "execute_result"
    }
   ],
   "source": [
    "(df_test_1[\"account_number\"].values == df_test_4_1[\"account_number\"].values).all()"
   ]
  },
  {
   "cell_type": "code",
   "execution_count": 91,
   "id": "209749de-05a1-442b-be2e-ee8644c16aea",
   "metadata": {},
   "outputs": [],
   "source": [
    "df_test_4_2 = df_test_1.merge(df_test_4, how=\"right\", on=\"account_number\")"
   ]
  },
  {
   "cell_type": "code",
   "execution_count": 92,
   "id": "ea83707a-6698-4003-8d33-8f4c60757d98",
   "metadata": {},
   "outputs": [
    {
     "data": {
      "text/plain": [
       "False"
      ]
     },
     "execution_count": 92,
     "metadata": {},
     "output_type": "execute_result"
    }
   ],
   "source": [
    "(df_test_1[\"account_number\"].values == df_test_4_2[\"account_number\"].values).all()"
   ]
  },
  {
   "cell_type": "code",
   "execution_count": 93,
   "id": "97f64bb0-2820-45a9-81c4-ff64bf959d66",
   "metadata": {},
   "outputs": [
    {
     "data": {
      "text/plain": [
       "True"
      ]
     },
     "execution_count": 93,
     "metadata": {},
     "output_type": "execute_result"
    }
   ],
   "source": [
    "(df_test_4[\"account_number\"].values == df_test_4_2[\"account_number\"].values).all()"
   ]
  },
  {
   "cell_type": "code",
   "execution_count": null,
   "id": "b442feba-2d1c-45b5-abd4-70f0e555f4b4",
   "metadata": {},
   "outputs": [],
   "source": []
  },
  {
   "cell_type": "markdown",
   "id": "b2e3d4f9-f8a8-452a-b567-8f94d7b8033a",
   "metadata": {},
   "source": [
    "### Case 3: merge two dataframes with different structure."
   ]
  },
  {
   "cell_type": "code",
   "execution_count": 49,
   "id": "0f14f915-8585-4df6-9f54-474a97127f0e",
   "metadata": {},
   "outputs": [],
   "source": [
    "df_test_1['account_bin'] = [1, 2, 3, 4, 5]*200"
   ]
  },
  {
   "cell_type": "code",
   "execution_count": 72,
   "id": "5420d527-b70e-49e9-89e6-eceeeca40249",
   "metadata": {},
   "outputs": [],
   "source": [
    "# create another dataframe which has different indices. \n",
    "# This is to be used for merging on the column bin_value, and check if the account order changes.\n",
    "bin_df = pd.DataFrame(data={\"account_bin\": [1,2 ,3 ,4, 5], \"bin_value\": [100, 105, 200, 150, 300]}, index=[0, 1, 2, 3, 4])"
   ]
  },
  {
   "cell_type": "code",
   "execution_count": 51,
   "id": "7e26099f-d401-410d-8864-cd0ee9fb531c",
   "metadata": {},
   "outputs": [],
   "source": [
    "# pd.merge could do how=\"left\", how=\"right\", or how=\"inner. Its default setup is how=\"inner\".\n",
    "df_test_4 = df_test_1.merge(bin_df, on=[\"account_bin\"])"
   ]
  },
  {
   "cell_type": "code",
   "execution_count": 75,
   "id": "a5ec4ddc-7921-4190-8fbd-22546a33970c",
   "metadata": {
    "tags": []
   },
   "outputs": [
    {
     "data": {
      "text/plain": [
       "False"
      ]
     },
     "execution_count": 75,
     "metadata": {},
     "output_type": "execute_result"
    }
   ],
   "source": [
    "(df_test_1.index == df_test_4.index).all()"
   ]
  },
  {
   "cell_type": "code",
   "execution_count": 54,
   "id": "b1582a42-b141-4628-a7a5-a1b95ef8ec71",
   "metadata": {
    "tags": []
   },
   "outputs": [
    {
     "data": {
      "text/plain": [
       "False"
      ]
     },
     "execution_count": 54,
     "metadata": {},
     "output_type": "execute_result"
    }
   ],
   "source": [
    "(df_test_1[\"account_number\"].values == df_test_4[\"account_number\"].values).all()"
   ]
  },
  {
   "cell_type": "markdown",
   "id": "e617c623-5666-4518-a670-a04ad73e4ff1",
   "metadata": {
    "tags": []
   },
   "source": [
    "Hence, the index is reset, and the order of the accounts **also changes**."
   ]
  },
  {
   "cell_type": "markdown",
   "id": "7fe3106a-d11a-40fa-ad7c-71639c05ba97",
   "metadata": {},
   "source": [
    "Join on **left**, to see how it changes."
   ]
  },
  {
   "cell_type": "code",
   "execution_count": 55,
   "id": "2f94cc05-9c31-4efe-8eb5-87f2861f8aa8",
   "metadata": {},
   "outputs": [],
   "source": [
    "df_test_5 = df_test_1.merge(bin_df, how=\"left\", on=[\"account_bin\"])"
   ]
  },
  {
   "cell_type": "code",
   "execution_count": 76,
   "id": "8f671931-19e2-47ad-93d6-6fcb27aacff3",
   "metadata": {},
   "outputs": [
    {
     "data": {
      "text/plain": [
       "False"
      ]
     },
     "execution_count": 76,
     "metadata": {},
     "output_type": "execute_result"
    }
   ],
   "source": [
    "(df_test_1.index == df_test_5.index).all()"
   ]
  },
  {
   "cell_type": "code",
   "execution_count": 58,
   "id": "50ab268a-49f1-4d3f-9b76-96ee04a7f125",
   "metadata": {},
   "outputs": [
    {
     "data": {
      "text/plain": [
       "True"
      ]
     },
     "execution_count": 58,
     "metadata": {},
     "output_type": "execute_result"
    }
   ],
   "source": [
    "(df_test_1[\"account_number\"].values == df_test_5[\"account_number\"].values).all()"
   ]
  },
  {
   "cell_type": "markdown",
   "id": "5d11cb5a-c50f-47ae-889d-01675ad1fdaa",
   "metadata": {
    "tags": []
   },
   "source": [
    "Hence, the index is reset, and the order of the accounts **doesn't** changes."
   ]
  },
  {
   "cell_type": "markdown",
   "id": "67e76cb5-1f7d-467e-914e-4bd6bfb12ae5",
   "metadata": {},
   "source": [
    "### The safest way to do pd.merge is to reset_index() before merge, and then set_index(\"index\") if left_index is what you want."
   ]
  },
  {
   "cell_type": "code",
   "execution_count": 69,
   "id": "43558709-7635-4800-8280-bac80d25e222",
   "metadata": {},
   "outputs": [],
   "source": [
    "df_test_6 = df_test_1.reset_index().merge(bin_df, how=\"left\", on=[\"account_bin\"]).set_index(\"index\")"
   ]
  },
  {
   "cell_type": "code",
   "execution_count": 70,
   "id": "97442921-1a0f-440c-b406-bc1d288e2c0a",
   "metadata": {},
   "outputs": [
    {
     "data": {
      "text/plain": [
       "True"
      ]
     },
     "execution_count": 70,
     "metadata": {},
     "output_type": "execute_result"
    }
   ],
   "source": [
    "(df_test_1[\"account_number\"] == df_test_6[\"account_number\"]).all() # the merged df is kept in the same account order."
   ]
  },
  {
   "cell_type": "markdown",
   "id": "604a0467-0c64-483d-8b74-044699f3b806",
   "metadata": {},
   "source": [
    "**Conclusions**:\n",
    "    \n",
    "1. pd.merge reset the index after merge.\n",
    "    \n",
    "2. pd.merge could merge the two dataframes with the same columns(account_number here, the merge key, which could be in different order)to generate the same order accounts in the merged dataframe as the left dataframe(how=\"left\" or how=\"inner\") or as the right dataframe(how=\"right\"), even though reset index. \n",
    "    \n",
    "3. When merge two different dataframes in terms of index and columns, the order of the merged dataframe is the same with the left dataframe if we define how=\"left\". Otherwise, if we don't define how, it is taken as the default how=\"inner\", and change the order of the rows."
   ]
  },
  {
   "cell_type": "code",
   "execution_count": null,
   "id": "0cd846a0-de9e-4aa9-97af-941afc380cf0",
   "metadata": {},
   "outputs": [],
   "source": []
  }
 ],
 "metadata": {
  "kernelspec": {
   "display_name": "Python 3 (ipykernel)",
   "language": "python",
   "name": "python3"
  },
  "language_info": {
   "codemirror_mode": {
    "name": "ipython",
    "version": 3
   },
   "file_extension": ".py",
   "mimetype": "text/x-python",
   "name": "python",
   "nbconvert_exporter": "python",
   "pygments_lexer": "ipython3",
   "version": "3.10.5"
  }
 },
 "nbformat": 4,
 "nbformat_minor": 5
}
